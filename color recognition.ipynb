{
 "cells": [
  {
   "cell_type": "code",
   "execution_count": 14,
   "id": "2718f9dd",
   "metadata": {},
   "outputs": [
    {
     "ename": "KeyboardInterrupt",
     "evalue": "",
     "output_type": "error",
     "traceback": [
      "\u001b[1;31m---------------------------------------------------------------------------\u001b[0m",
      "\u001b[1;31mKeyboardInterrupt\u001b[0m                         Traceback (most recent call last)",
      "Cell \u001b[1;32mIn[14], line 52\u001b[0m\n\u001b[0;32m     48\u001b[0m         cv2\u001b[38;5;241m.\u001b[39mputText(display, text, (\u001b[38;5;241m30\u001b[39m, \u001b[38;5;241m50\u001b[39m), cv2\u001b[38;5;241m.\u001b[39mFONT_HERSHEY_SIMPLEX, \u001b[38;5;241m0.8\u001b[39m,\n\u001b[0;32m     49\u001b[0m                     (\u001b[38;5;241m255\u001b[39m \u001b[38;5;241m-\u001b[39m b, \u001b[38;5;241m255\u001b[39m \u001b[38;5;241m-\u001b[39m g, \u001b[38;5;241m255\u001b[39m \u001b[38;5;241m-\u001b[39m r), \u001b[38;5;241m2\u001b[39m, cv2\u001b[38;5;241m.\u001b[39mLINE_AA)\n\u001b[0;32m     50\u001b[0m     cv2\u001b[38;5;241m.\u001b[39mimshow(\u001b[38;5;124m\"\u001b[39m\u001b[38;5;124mColor Recognition\u001b[39m\u001b[38;5;124m\"\u001b[39m, display)\n\u001b[1;32m---> 52\u001b[0m     \u001b[38;5;28;01mif\u001b[39;00m cv2\u001b[38;5;241m.\u001b[39mwaitKey(\u001b[38;5;241m20\u001b[39m) \u001b[38;5;241m&\u001b[39m \u001b[38;5;241m0xFF\u001b[39m \u001b[38;5;241m==\u001b[39m \u001b[38;5;241m27\u001b[39m:  \n\u001b[0;32m     53\u001b[0m         \u001b[38;5;28;01mbreak\u001b[39;00m\n\u001b[0;32m     55\u001b[0m cv2\u001b[38;5;241m.\u001b[39mdestroyAllWindows()\n",
      "\u001b[1;31mKeyboardInterrupt\u001b[0m: "
     ]
    }
   ],
   "source": [
    "import cv2\n",
    "import pandas as pd\n",
    "\n",
    "\n",
    "\n",
    "colors = pd.read_csv('colors.csv')\n",
    "\n",
    "\n",
    "img = cv2.imread('c5.jpg')\n",
    "img = cv2.resize(img, (600, 600))  \n",
    "\n",
    "clicked = False\n",
    "r = g = b = xpos = ypos = 0\n",
    "\n",
    "\n",
    "def get_color_name(R, G, B):\n",
    "    minimum = float('inf')\n",
    "    cname = \"\"\n",
    "    for i in range(len(colors)):\n",
    "        d = abs(R - int(colors.loc[i, \"R\"])) + abs(G - int(colors.loc[i, \"G\"])) + abs(B - int(colors.loc[i, \"B\"]))\n",
    "        if d < minimum:\n",
    "            minimum = d\n",
    "            cname = colors.loc[i, \"color_name\"]\n",
    "    return cname\n",
    "\n",
    "\n",
    "def draw(event, x, y, flags, param):\n",
    "    global b, g, r, xpos, ypos, clicked\n",
    "    if event == cv2.EVENT_LBUTTONDOWN:\n",
    "        clicked = True\n",
    "        xpos = x\n",
    "        ypos = y\n",
    "        b, g, r = img[y, x]\n",
    "        b = int(b)\n",
    "        g = int(g)\n",
    "        r = int(r)\n",
    "\n",
    "\n",
    "cv2.namedWindow('Color Recognition')\n",
    "cv2.setMouseCallback('Color Recognition', draw)\n",
    "\n",
    "while True:\n",
    "    display = img.copy()\n",
    "    if clicked:\n",
    "        color_name = get_color_name(r, g, b)\n",
    "        cv2.rectangle(display, (20, 20), (600, 60), (b, g, r), -1)\n",
    "        text = f\"{color_name} R={r} G={g} B={b}\"\n",
    "        cv2.putText(display, text, (30, 50), cv2.FONT_HERSHEY_SIMPLEX, 0.8,\n",
    "                    (255 - b, 255 - g, 255 - r), 2, cv2.LINE_AA)\n",
    "    cv2.imshow(\"Color Recognition\", display)\n",
    "\n",
    "    if cv2.waitKey(20) & 0xFF == 27:  \n",
    "        break\n",
    "\n",
    "cv2.destroyAllWindows()\n"
   ]
  }
 ],
 "metadata": {
  "kernelspec": {
   "display_name": "base",
   "language": "python",
   "name": "python3"
  },
  "language_info": {
   "codemirror_mode": {
    "name": "ipython",
    "version": 3
   },
   "file_extension": ".py",
   "mimetype": "text/x-python",
   "name": "python",
   "nbconvert_exporter": "python",
   "pygments_lexer": "ipython3",
   "version": "3.13.5"
  }
 },
 "nbformat": 4,
 "nbformat_minor": 5
}
